{
 "nbformat": 4,
 "nbformat_minor": 2,
 "metadata": {
  "language_info": {
   "name": "python",
   "codemirror_mode": {
    "name": "ipython",
    "version": 3
   },
   "version": "3.7.2-final"
  },
  "orig_nbformat": 2,
  "file_extension": ".py",
  "mimetype": "text/x-python",
  "name": "python",
  "npconvert_exporter": "python",
  "pygments_lexer": "ipython3",
  "version": 3,
  "kernelspec": {
   "name": "python37264bit80e2d211505b4bd9a8fb147f8069d01f",
   "display_name": "Python 3.7.2 64-bit"
  }
 },
 "cells": [
  {
   "cell_type": "markdown",
   "metadata": {},
   "source": [
    "# COVID-19の世界の状況を中心に可視化\n",
    "> COVID-19の世界の状況を中心に可視化\n",
    "\n",
    "- toc: true \n",
    "- badges: true\n",
    "- comments: true\n",
    "- categories: [jupyter, COVID-19]"
   ],
   "execution_count": null,
   "outputs": []
  },
  {
   "cell_type": "markdown",
   "metadata": {},
   "source": [
    "## Novel Coronavirus (COVID-19) Cases, provided by JHU CSSE\n",
    "グローバール規模だと個別のケースデータは見つからず\n",
    "\n",
    "https://raw.githubusercontent.com/CSSEGISandData/COVID-19/master/csse_covid_19_data/csse_covid_19_time_series/time_series_covid19_confirmed_global.csv"
   ],
   "execution_count": null,
   "outputs": []
  },
  {
   "cell_type": "code",
   "execution_count": 1,
   "metadata": {},
   "outputs": [
    {
     "output_type": "execute_result",
     "data": {
      "text/plain": "            num\n1/22/20     555\n1/23/20     654\n1/24/20     941\n1/25/20    1434\n1/26/20    2118\n...         ...\n3/18/20  214911\n3/19/20  242708\n3/20/20  272166\n3/21/20  304521\n3/22/20  337091\n\n[61 rows x 1 columns]",
      "text/html": "<div>\n<style scoped>\n    .dataframe tbody tr th:only-of-type {\n        vertical-align: middle;\n    }\n\n    .dataframe tbody tr th {\n        vertical-align: top;\n    }\n\n    .dataframe thead th {\n        text-align: right;\n    }\n</style>\n<table border=\"1\" class=\"dataframe\">\n  <thead>\n    <tr style=\"text-align: right;\">\n      <th></th>\n      <th>num</th>\n    </tr>\n  </thead>\n  <tbody>\n    <tr>\n      <th>1/22/20</th>\n      <td>555</td>\n    </tr>\n    <tr>\n      <th>1/23/20</th>\n      <td>654</td>\n    </tr>\n    <tr>\n      <th>1/24/20</th>\n      <td>941</td>\n    </tr>\n    <tr>\n      <th>1/25/20</th>\n      <td>1434</td>\n    </tr>\n    <tr>\n      <th>1/26/20</th>\n      <td>2118</td>\n    </tr>\n    <tr>\n      <th>...</th>\n      <td>...</td>\n    </tr>\n    <tr>\n      <th>3/18/20</th>\n      <td>214911</td>\n    </tr>\n    <tr>\n      <th>3/19/20</th>\n      <td>242708</td>\n    </tr>\n    <tr>\n      <th>3/20/20</th>\n      <td>272166</td>\n    </tr>\n    <tr>\n      <th>3/21/20</th>\n      <td>304521</td>\n    </tr>\n    <tr>\n      <th>3/22/20</th>\n      <td>337091</td>\n    </tr>\n  </tbody>\n</table>\n<p>61 rows × 1 columns</p>\n</div>"
     },
     "metadata": {},
     "execution_count": 1
    }
   ],
   "source": [
    "import pandas as pd\n",
    "import altair as alt\n",
    "import requests\n",
    "import io\n",
    "\n",
    "URL = \"https://raw.githubusercontent.com/CSSEGISandData/COVID-19/master/csse_covid_19_data/csse_covid_19_time_series/time_series_covid19_confirmed_global.csv\"\n",
    "\n",
    "r = requests.get(URL)\n",
    "df = pd.read_csv(io.BytesIO(r.content), sep=\",\")\n",
    "df = df.drop(['Province/State', 'Province/State', 'Country/Region', 'Lat', 'Long'], axis='columns')\n",
    "df = df.sum()\n",
    "df = pd.DataFrame(df)\n",
    "df.columns = ['num']\n",
    "df"
   ]
  },
  {
   "cell_type": "code",
   "execution_count": 2,
   "metadata": {},
   "outputs": [
    {
     "output_type": "execute_result",
     "data": {
      "text/html": "\n<div id=\"altair-viz-f6553a675d324c0ab8b08a8c375ef044\"></div>\n<script type=\"text/javascript\">\n  (function(spec, embedOpt){\n    const outputDiv = document.getElementById(\"altair-viz-f6553a675d324c0ab8b08a8c375ef044\");\n    const paths = {\n      \"vega\": \"https://cdn.jsdelivr.net/npm//vega@5?noext\",\n      \"vega-lib\": \"https://cdn.jsdelivr.net/npm//vega-lib?noext\",\n      \"vega-lite\": \"https://cdn.jsdelivr.net/npm//vega-lite@4.0.2?noext\",\n      \"vega-embed\": \"https://cdn.jsdelivr.net/npm//vega-embed@6?noext\",\n    };\n\n    function loadScript(lib) {\n      return new Promise(function(resolve, reject) {\n        var s = document.createElement('script');\n        s.src = paths[lib];\n        s.async = true;\n        s.onload = () => resolve(paths[lib]);\n        s.onerror = () => reject(`Error loading script: ${paths[lib]}`);\n        document.getElementsByTagName(\"head\")[0].appendChild(s);\n      });\n    }\n\n    function showError(err) {\n      outputDiv.innerHTML = `<div class=\"error\" style=\"color:red;\">${err}</div>`;\n      throw err;\n    }\n\n    function displayChart(vegaEmbed) {\n      vegaEmbed(outputDiv, spec, embedOpt)\n        .catch(err => showError(`Javascript Error: ${err.message}<br>This usually means there's a typo in your chart specification. See the javascript console for the full traceback.`));\n    }\n\n    if(typeof define === \"function\" && define.amd) {\n      requirejs.config({paths});\n      require([\"vega-embed\"], displayChart, err => showError(`Error loading script: ${err.message}`));\n    } else if (typeof vegaEmbed === \"function\") {\n      displayChart(vegaEmbed);\n    } else {\n      loadScript(\"vega\")\n        .then(() => loadScript(\"vega-lite\"))\n        .then(() => loadScript(\"vega-embed\"))\n        .catch(showError)\n        .then(() => displayChart(vegaEmbed));\n    }\n  })({\"config\": {\"view\": {\"continuousWidth\": 400, \"continuousHeight\": 300}}, \"data\": {\"name\": \"data-91bdcf8ef0a30e4b85d284ef88ecd4b1\"}, \"mark\": \"line\", \"encoding\": {\"x\": {\"type\": \"temporal\", \"field\": \"index\"}, \"y\": {\"type\": \"quantitative\", \"field\": \"num\"}}, \"$schema\": \"https://vega.github.io/schema/vega-lite/v4.0.2.json\", \"datasets\": {\"data-91bdcf8ef0a30e4b85d284ef88ecd4b1\": [{\"index\": \"1/22/20\", \"num\": 555}, {\"index\": \"1/23/20\", \"num\": 654}, {\"index\": \"1/24/20\", \"num\": 941}, {\"index\": \"1/25/20\", \"num\": 1434}, {\"index\": \"1/26/20\", \"num\": 2118}, {\"index\": \"1/27/20\", \"num\": 2927}, {\"index\": \"1/28/20\", \"num\": 5578}, {\"index\": \"1/29/20\", \"num\": 6166}, {\"index\": \"1/30/20\", \"num\": 8234}, {\"index\": \"1/31/20\", \"num\": 9927}, {\"index\": \"2/1/20\", \"num\": 12038}, {\"index\": \"2/2/20\", \"num\": 16787}, {\"index\": \"2/3/20\", \"num\": 19881}, {\"index\": \"2/4/20\", \"num\": 23892}, {\"index\": \"2/5/20\", \"num\": 27635}, {\"index\": \"2/6/20\", \"num\": 30794}, {\"index\": \"2/7/20\", \"num\": 34391}, {\"index\": \"2/8/20\", \"num\": 37120}, {\"index\": \"2/9/20\", \"num\": 40150}, {\"index\": \"2/10/20\", \"num\": 42762}, {\"index\": \"2/11/20\", \"num\": 44802}, {\"index\": \"2/12/20\", \"num\": 45221}, {\"index\": \"2/13/20\", \"num\": 60368}, {\"index\": \"2/14/20\", \"num\": 66885}, {\"index\": \"2/15/20\", \"num\": 69030}, {\"index\": \"2/16/20\", \"num\": 71224}, {\"index\": \"2/17/20\", \"num\": 73258}, {\"index\": \"2/18/20\", \"num\": 75136}, {\"index\": \"2/19/20\", \"num\": 75639}, {\"index\": \"2/20/20\", \"num\": 76197}, {\"index\": \"2/21/20\", \"num\": 76819}, {\"index\": \"2/22/20\", \"num\": 78572}, {\"index\": \"2/23/20\", \"num\": 78958}, {\"index\": \"2/24/20\", \"num\": 79561}, {\"index\": \"2/25/20\", \"num\": 80406}, {\"index\": \"2/26/20\", \"num\": 81388}, {\"index\": \"2/27/20\", \"num\": 82746}, {\"index\": \"2/28/20\", \"num\": 84112}, {\"index\": \"2/29/20\", \"num\": 86011}, {\"index\": \"3/1/20\", \"num\": 88369}, {\"index\": \"3/2/20\", \"num\": 90306}, {\"index\": \"3/3/20\", \"num\": 92840}, {\"index\": \"3/4/20\", \"num\": 95120}, {\"index\": \"3/5/20\", \"num\": 97882}, {\"index\": \"3/6/20\", \"num\": 101794}, {\"index\": \"3/7/20\", \"num\": 105831}, {\"index\": \"3/8/20\", \"num\": 109805}, {\"index\": \"3/9/20\", \"num\": 113571}, {\"index\": \"3/10/20\", \"num\": 118602}, {\"index\": \"3/11/20\", \"num\": 125875}, {\"index\": \"3/12/20\", \"num\": 128353}, {\"index\": \"3/13/20\", \"num\": 145209}, {\"index\": \"3/14/20\", \"num\": 156104}, {\"index\": \"3/15/20\", \"num\": 167456}, {\"index\": \"3/16/20\", \"num\": 181575}, {\"index\": \"3/17/20\", \"num\": 197152}, {\"index\": \"3/18/20\", \"num\": 214911}, {\"index\": \"3/19/20\", \"num\": 242708}, {\"index\": \"3/20/20\", \"num\": 272166}, {\"index\": \"3/21/20\", \"num\": 304521}, {\"index\": \"3/22/20\", \"num\": 337091}]}}, {\"mode\": \"vega-lite\"});\n</script>",
      "text/plain": "alt.Chart(...)"
     },
     "metadata": {},
     "execution_count": 2
    }
   ],
   "source": [
    "alt.Chart(df.reset_index()).mark_line().encode(\n",
    "    x='index:T',\n",
    "    y='num:Q',\n",
    ")"
   ]
  },
  {
   "cell_type": "code",
   "execution_count": null,
   "metadata": {},
   "outputs": [],
   "source": []
  }
 ]
}